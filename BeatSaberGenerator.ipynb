{
 "cells": [
  {
   "cell_type": "code",
   "execution_count": 24,
   "metadata": {},
   "outputs": [],
   "source": [
    "import time, os\n",
    "import numpy as np\n",
    "from IPython.display import Audio\n",
    "\n",
    "import tensorflow as tf\n",
    "import keras\n",
    "from keras.models import Sequential\n",
    "from keras.layers import Dense, SimpleRNN\n",
    "from keras.callbacks import History"
   ]
  },
  {
   "cell_type": "code",
   "execution_count": 25,
   "metadata": {},
   "outputs": [
    {
     "name": "stdout",
     "output_type": "stream",
     "text": [
      "[name: \"/device:CPU:0\"\n",
      "device_type: \"CPU\"\n",
      "memory_limit: 268435456\n",
      "locality {\n",
      "}\n",
      "incarnation: 4722188080881839248\n",
      "]\n"
     ]
    }
   ],
   "source": [
    "from tensorflow.python.client import device_lib\n",
    "print(device_lib.list_local_devices())"
   ]
  },
  {
   "cell_type": "code",
   "execution_count": 26,
   "metadata": {},
   "outputs": [],
   "source": [
    "import soundfile as sf\n",
    "channels = 2\n",
    "dataX, samplerate = sf.read('../CustomSongs/7388-7168/Chop Suey/song.ogg')\n",
    "sf.write('../CustomSongs/7388-7168/Chop Suey/song.wav', dataX, samplerate)"
   ]
  },
  {
   "cell_type": "code",
   "execution_count": 27,
   "metadata": {},
   "outputs": [],
   "source": [
    "#Sandbox for onset generation\n",
    "import scipy.io.wavfile\n",
    "import onsetdetection\n",
    "sr, audio = scipy.io.wavfile.read('../CustomSongs/7388-7168/Chop Suey/song.wav')\n",
    "#audio = audio[:,0] # make it mono"
   ]
  },
  {
   "cell_type": "code",
   "execution_count": 28,
   "metadata": {},
   "outputs": [],
   "source": [
    "import json\n",
    "infile = open('../CustomSongs/7388-7168/Chop Suey/Hard.json', 'r')\n",
    "dataY = json.loads(infile.read())\n",
    "infile.close()"
   ]
  },
  {
   "cell_type": "code",
   "execution_count": 29,
   "metadata": {},
   "outputs": [],
   "source": [
    "trainY = np.array([[dataY['_notes'][i]['_lineIndex'], dataY['_notes'][i]['_lineLayer'], dataY['_notes'][i]['_type'], dataY['_notes'][i]['_cutDirection']] for i in range(len(dataY['_notes']))])"
   ]
  },
  {
   "cell_type": "code",
   "execution_count": 30,
   "metadata": {},
   "outputs": [
    {
     "data": {
      "text/plain": [
       "{'_time': 16.058334350585938,\n",
       " '_lineIndex': 3,\n",
       " '_lineLayer': 0,\n",
       " '_type': 1,\n",
       " '_cutDirection': 7}"
      ]
     },
     "execution_count": 30,
     "metadata": {},
     "output_type": "execute_result"
    }
   ],
   "source": [
    "dataY['_notes'][0]"
   ]
  },
  {
   "cell_type": "code",
   "execution_count": 31,
   "metadata": {},
   "outputs": [],
   "source": [
    "songTicks = dataX.shape[0]/samplerate\n",
    "songNoteTicks = dataY['_notes'][-1]['_time']\n",
    "\n",
    "tickRate = int((songTicks/songNoteTicks) * 44100)\n",
    "\n",
    "def getDataRunway(t = 0):\n",
    "    return dataX[int((t-1)*tickRate):int((t)*tickRate)]"
   ]
  },
  {
   "cell_type": "code",
   "execution_count": 32,
   "metadata": {},
   "outputs": [
    {
     "data": {
      "text/plain": [
       "{0, 1}"
      ]
     },
     "execution_count": 32,
     "metadata": {},
     "output_type": "execute_result"
    }
   ],
   "source": [
    "set([dataY['_notes'][i]['_type'] for i in range(len(dataY['_notes']))])"
   ]
  },
  {
   "cell_type": "code",
   "execution_count": 33,
   "metadata": {},
   "outputs": [],
   "source": [
    "#generate training output\n",
    "dataRows, dataCols = 3, 4\n",
    "\n",
    "tY = {}\n",
    "tX = {}\n",
    "for p in dataY['_notes']:\n",
    "    if p['_type'] is 3:\n",
    "        continue\n",
    "    t = p['_time']\n",
    "    \n",
    "    d = p['_cutDirection']\n",
    "    d -= (1 * (d%2))\n",
    "    d /= 2\n",
    "    dX, dY = 0, 0\n",
    "    if d is 0:\n",
    "        dX, dY = 0, 1\n",
    "    elif d is 1:\n",
    "        dX, dY = 1, 0\n",
    "    elif d is 2:\n",
    "        dX, dY = 0, -1\n",
    "    else:\n",
    "        dX, dY = -1, 0\n",
    "    \n",
    "    if t in tY:\n",
    "        _img = tY[t]\n",
    "        _img[p['_lineLayer']][p['_lineIndex']][1] = dY\n",
    "        _img[p['_lineLayer']][p['_lineIndex']][2] = dX\n",
    "        _img[p['_lineLayer']][p['_lineIndex']][0] = (2 * p['_type']) - 1\n",
    "        tY.update({t: _img})\n",
    "    else:\n",
    "        _img = np.full((3,4,3), 0)\n",
    "        \n",
    "        #CUT DIRECTION (Y, X)\n",
    "        _img[p['_lineLayer']][p['_lineIndex']][1] = dY\n",
    "        _img[p['_lineLayer']][p['_lineIndex']][2] = dX\n",
    "    \n",
    "        #COLOR\n",
    "        _img[p['_lineLayer']][p['_lineIndex']][0] = (2 * p['_type']) - 1\n",
    "        \n",
    "        tY.update({t: _img})\n",
    "        tX.update({t: getDataRunway(t)})\n",
    "   \n",
    "#print(tY[4].shape)\n",
    "#print(tX[4].shape)"
   ]
  },
  {
   "cell_type": "code",
   "execution_count": 34,
   "metadata": {},
   "outputs": [
    {
     "data": {
      "text/plain": [
       "512"
      ]
     },
     "execution_count": 34,
     "metadata": {},
     "output_type": "execute_result"
    }
   ],
   "source": [
    "len(tY)"
   ]
  },
  {
   "cell_type": "code",
   "execution_count": 37,
   "metadata": {},
   "outputs": [
    {
     "data": {
      "text/plain": [
       "(512, 3, 4, 3)"
      ]
     },
     "execution_count": 37,
     "metadata": {},
     "output_type": "execute_result"
    }
   ],
   "source": [
    "X, Y = [], []\n",
    "for k in tY.keys():\n",
    "    X += [tX[k]]\n",
    "    Y += [tY[k]]\n",
    "X, Y = np.array(X), np.array(Y)\n",
    "#Y = Y.reshape(Y.shape[0], Y.shape[-2], Y.shape[-1], -1)\n",
    "Y.shape"
   ]
  },
  {
   "cell_type": "code",
   "execution_count": 38,
   "metadata": {},
   "outputs": [],
   "source": [
    "o=Sequential()\n",
    "o.add(\n",
    "    keras.layers.SimpleRNN(Y.shape[-1] * Y.shape[-2], \n",
    "                           activation='tanh', \n",
    "                           dropout=0.0, \n",
    "                           recurrent_dropout=0.0,\n",
    "                           stateful=False, \n",
    "                           unroll=False,\n",
    "                          input_shape=(X.shape[1], channels))\n",
    ")\n",
    "o.add(\n",
    "    keras.layers.Reshape((1, 3, 4), input_shape = (Y.shape[-1] * Y.shape[-2], ))\n",
    ")\n",
    "o.add(\n",
    "    keras.layers.Conv2DTranspose(filters=3, \n",
    "                                 kernel_size=(3,2), \n",
    "                                 strides=(1, 1), \n",
    "                                 padding='valid', \n",
    "                                 data_format=None, \n",
    "                                 dilation_rate=(1, 1), \n",
    "                                 activation='tanh')\n",
    ")\n"
   ]
  },
  {
   "cell_type": "code",
   "execution_count": null,
   "metadata": {},
   "outputs": [
    {
     "name": "stdout",
     "output_type": "stream",
     "text": [
      "Epoch 1/3\n",
      " 16/512 [..............................] - ETA: 7:33 - loss: 0.0857"
     ]
    }
   ],
   "source": [
    "sgd = keras.optimizers.SGD(lr=0.01, nesterov=True)\n",
    "o.compile(optimizer=sgd, loss='mse')\n",
    "hist = o.fit(X, Y,\n",
    "          batch_size=2,\n",
    "          epochs=3)#,\n",
    "          #validation_split=0.2)\n",
    "#~1.5 - 1.6"
   ]
  },
  {
   "cell_type": "code",
   "execution_count": null,
   "metadata": {},
   "outputs": [],
   "source": [
    "sendMessage('7039154386@vtext.com', 'Finished training\\nLoss: {}'.format(hist.history['loss'][-1]))"
   ]
  },
  {
   "cell_type": "code",
   "execution_count": 83,
   "metadata": {},
   "outputs": [],
   "source": [
    "testout = o.predict(X[:])"
   ]
  },
  {
   "cell_type": "code",
   "execution_count": 90,
   "metadata": {},
   "outputs": [
    {
     "data": {
      "text/plain": [
       "array([[[-0.11740984, -0.01755702, -0.22677885],\n",
       "        [ 0.05784214,  0.10615101, -0.11361618],\n",
       "        [ 0.05620984,  0.08970454,  0.15112035],\n",
       "        [-0.13384372, -0.10968328, -0.09411307]],\n",
       "\n",
       "       [[ 0.0109544 , -0.12744291, -0.00914534],\n",
       "        [ 0.08595253, -0.09595299, -0.09834012],\n",
       "        [ 0.20944545,  0.01809225, -0.21826468],\n",
       "        [ 0.20607492,  0.13200557, -0.16858278]],\n",
       "\n",
       "       [[ 0.01375662,  0.1589484 , -0.04385418],\n",
       "        [ 0.04692488, -0.07804783,  0.03734485],\n",
       "        [-0.2901995 , -0.19850571,  0.16995184],\n",
       "        [-0.04504027,  0.05152607,  0.04650337]]], dtype=float32)"
      ]
     },
     "execution_count": 90,
     "metadata": {},
     "output_type": "execute_result"
    }
   ],
   "source": [
    "(testout[0])# * 5).astype('int')"
   ]
  },
  {
   "cell_type": "code",
   "execution_count": 98,
   "metadata": {},
   "outputs": [
    {
     "data": {
      "text/plain": [
       "{'_time': 4, '_lineIndex': 1, '_lineLayer': 0, '_type': 0, '_cutDirection': 1}"
      ]
     },
     "execution_count": 98,
     "metadata": {},
     "output_type": "execute_result"
    }
   ],
   "source": [
    "dataY['_notes'][0]"
   ]
  },
  {
   "cell_type": "code",
   "execution_count": 99,
   "metadata": {},
   "outputs": [],
   "source": [
    "newnotes = []\n",
    "color_threshold = np.average(np.abs(testout[:][:,:,0]))\n",
    "for i in range(testout.shape[0]):\n",
    "    for row in range(testout.shape[1]):\n",
    "        for col in range(testout.shape[2]):\n",
    "            p = testout[i][row, col]\n",
    "            if abs(p[0]) > color_threshold:\n",
    "                dat = {}\n",
    "                dat['_time'] = i\n",
    "                dat['_lineIndex'] = row\n",
    "                dat['_lineLayer'] = col\n",
    "                    \n",
    "                dat['_type'] = 0 if p[0] < 0 else 1\n",
    "                \n",
    "                if abs(p[1]) > abs(p[2]):\n",
    "                    dat['_cutDirection'] = 0 if p[1] > 0 else 4\n",
    "                else:\n",
    "                    dat['_cutDirection'] = 2 if p[2] > 0 else 6\n",
    "                \n",
    "                newnotes += [dat]\n",
    "                "
   ]
  },
  {
   "cell_type": "code",
   "execution_count": 103,
   "metadata": {},
   "outputs": [],
   "source": [
    "outY = dataY.copy()\n",
    "outY['_notes'] = newnotes"
   ]
  },
  {
   "cell_type": "code",
   "execution_count": 106,
   "metadata": {},
   "outputs": [],
   "source": [
    "outfile = open('gen.json', 'w')\n",
    "outfile.write(json.dumps(outY))\n",
    "outfile.close()"
   ]
  },
  {
   "cell_type": "code",
   "execution_count": 78,
   "metadata": {},
   "outputs": [],
   "source": [
    "import smtplib\n",
    "import base64\n",
    "import time\n",
    "from time import sleep\n",
    "\n",
    "GMAIL_USR = \"m1raszp1e@gmail.com\"\n",
    "GMAIL_PSW = \"r@spberry\"\n",
    "\n",
    "msgHeader = '[@vt]'\n",
    "\n",
    "def sendMessage(to, msg):\n",
    "    smtps = smtplib.SMTP(\"smtp.gmail.com\", 587)\n",
    "    smtps.ehlo()\n",
    "    smtps.starttls()\n",
    "    smtps.ehlo\n",
    "    smtps.login(GMAIL_USR, GMAIL_PSW)\n",
    "    h = 'To:' + to + '\\n' + 'From: ' + GMAIL_USR + '\\n' + 'Subject: ' + '\\n'\n",
    "    m = h + '\\n ' + msgHeader + ' ' + msg + '\\n'\n",
    "    smtps.sendmail(GMAIL_USR, to, m)\n",
    "    smtps.close()\n",
    "    print(\"Message sent to \" + to)\n",
    "\n",
    "mail = None\n",
    "def mailLogin():\n",
    "    m = imaplib.IMAP4_SSL('imap.gmail.com')\n",
    "    m.login(GMAIL_USR, GMAIL_PSW)\n",
    "    result = m.select(\"INBOX\")\n",
    "    print(\"MAILBOX_SELECT: \" + result[0])\n",
    "    return m\n"
   ]
  }
 ],
 "metadata": {
  "kernelspec": {
   "display_name": "Python 3",
   "language": "python",
   "name": "python3"
  },
  "language_info": {
   "codemirror_mode": {
    "name": "ipython",
    "version": 3
   },
   "file_extension": ".py",
   "mimetype": "text/x-python",
   "name": "python",
   "nbconvert_exporter": "python",
   "pygments_lexer": "ipython3",
   "version": "3.6.8"
  }
 },
 "nbformat": 4,
 "nbformat_minor": 2
}
